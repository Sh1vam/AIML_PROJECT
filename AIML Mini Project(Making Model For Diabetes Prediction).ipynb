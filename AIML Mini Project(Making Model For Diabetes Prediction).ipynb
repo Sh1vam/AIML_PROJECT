{
 "cells": [
  {
   "cell_type": "markdown",
   "id": "235b0b62-98ca-47a7-9cb9-aebc9834519a",
   "metadata": {},
   "source": [
    "# Diabetes Prediction Using Machine Learning \n",
    "\n",
    "## Dataset :-  https://www.kaggle.com/datasets/iammustafatz/diabetes-prediction-dataset"
   ]
  },
  {
   "cell_type": "markdown",
   "id": "757756fc-d603-4aa2-865e-9f95dbbeb98d",
   "metadata": {},
   "source": [
    "## Import All Required Libraries"
   ]
  },
  {
   "cell_type": "code",
   "execution_count": 1,
   "id": "06540de5-d94f-4512-8dc6-48540cb07841",
   "metadata": {},
   "outputs": [],
   "source": [
    "import pandas as pd\n",
    "import numpy as np\n",
    "import seaborn as sns\n",
    "import matplotlib.pyplot as plt\n",
    "from sklearn.impute import SimpleImputer\n",
    "from scipy.stats.mstats import winsorize\n",
    "import joblib\n",
    "from sklearn.preprocessing import StandardScaler\n",
    "from sklearn.svm import SVC\n",
    "from sklearn.tree import DecisionTreeClassifier\n",
    "from sklearn.ensemble import RandomForestClassifier\n",
    "from sklearn.ensemble import GradientBoostingClassifier,HistGradientBoostingClassifier\n",
    "from sklearn.linear_model import SGDClassifier\n",
    "from sklearn.pipeline import Pipeline\n",
    "from sklearn.model_selection import train_test_split,cross_val_score\n",
    "from sklearn.metrics import accuracy_score\n",
    "from sklearn.ensemble import VotingClassifier\n",
    "%matplotlib inline\n",
    "sns.set_style('whitegrid')"
   ]
  },
  {
   "cell_type": "markdown",
   "id": "f51fb227-99c2-4421-864b-c0bbd5d85ba8",
   "metadata": {},
   "source": [
    "## Loading Dataset & Doing EDA"
   ]
  },
  {
   "cell_type": "code",
   "execution_count": 2,
   "id": "fa33a598-566c-4134-a85e-373fff723059",
   "metadata": {},
   "outputs": [],
   "source": [
    "df=pd.read_csv(\"diabetes_prediction_dataset.csv\")"
   ]
  },
  {
   "cell_type": "code",
   "execution_count": 3,
   "id": "afd128ac-8bfe-4948-87ba-e964c42979e6",
   "metadata": {},
   "outputs": [
    {
     "data": {
      "text/html": [
       "<div>\n",
       "<style scoped>\n",
       "    .dataframe tbody tr th:only-of-type {\n",
       "        vertical-align: middle;\n",
       "    }\n",
       "\n",
       "    .dataframe tbody tr th {\n",
       "        vertical-align: top;\n",
       "    }\n",
       "\n",
       "    .dataframe thead th {\n",
       "        text-align: right;\n",
       "    }\n",
       "</style>\n",
       "<table border=\"1\" class=\"dataframe\">\n",
       "  <thead>\n",
       "    <tr style=\"text-align: right;\">\n",
       "      <th></th>\n",
       "      <th>gender</th>\n",
       "      <th>age</th>\n",
       "      <th>hypertension</th>\n",
       "      <th>heart_disease</th>\n",
       "      <th>smoking_history</th>\n",
       "      <th>bmi</th>\n",
       "      <th>HbA1c_level</th>\n",
       "      <th>blood_glucose_level</th>\n",
       "      <th>diabetes</th>\n",
       "    </tr>\n",
       "  </thead>\n",
       "  <tbody>\n",
       "    <tr>\n",
       "      <th>0</th>\n",
       "      <td>Female</td>\n",
       "      <td>80.0</td>\n",
       "      <td>0</td>\n",
       "      <td>1</td>\n",
       "      <td>never</td>\n",
       "      <td>25.19</td>\n",
       "      <td>6.6</td>\n",
       "      <td>140</td>\n",
       "      <td>1</td>\n",
       "    </tr>\n",
       "    <tr>\n",
       "      <th>1</th>\n",
       "      <td>Female</td>\n",
       "      <td>54.0</td>\n",
       "      <td>0</td>\n",
       "      <td>0</td>\n",
       "      <td>No Info</td>\n",
       "      <td>27.32</td>\n",
       "      <td>6.6</td>\n",
       "      <td>80</td>\n",
       "      <td>0</td>\n",
       "    </tr>\n",
       "    <tr>\n",
       "      <th>2</th>\n",
       "      <td>Male</td>\n",
       "      <td>28.0</td>\n",
       "      <td>0</td>\n",
       "      <td>0</td>\n",
       "      <td>never</td>\n",
       "      <td>27.32</td>\n",
       "      <td>5.7</td>\n",
       "      <td>158</td>\n",
       "      <td>1</td>\n",
       "    </tr>\n",
       "    <tr>\n",
       "      <th>3</th>\n",
       "      <td>Female</td>\n",
       "      <td>36.0</td>\n",
       "      <td>0</td>\n",
       "      <td>0</td>\n",
       "      <td>current</td>\n",
       "      <td>23.45</td>\n",
       "      <td>5.0</td>\n",
       "      <td>155</td>\n",
       "      <td>0</td>\n",
       "    </tr>\n",
       "    <tr>\n",
       "      <th>4</th>\n",
       "      <td>Male</td>\n",
       "      <td>76.0</td>\n",
       "      <td>1</td>\n",
       "      <td>1</td>\n",
       "      <td>current</td>\n",
       "      <td>20.14</td>\n",
       "      <td>4.8</td>\n",
       "      <td>155</td>\n",
       "      <td>0</td>\n",
       "    </tr>\n",
       "  </tbody>\n",
       "</table>\n",
       "</div>"
      ],
      "text/plain": [
       "   gender   age  hypertension  heart_disease smoking_history    bmi  \\\n",
       "0  Female  80.0             0              1           never  25.19   \n",
       "1  Female  54.0             0              0         No Info  27.32   \n",
       "2    Male  28.0             0              0           never  27.32   \n",
       "3  Female  36.0             0              0         current  23.45   \n",
       "4    Male  76.0             1              1         current  20.14   \n",
       "\n",
       "   HbA1c_level  blood_glucose_level  diabetes  \n",
       "0          6.6                  140         1  \n",
       "1          6.6                   80         0  \n",
       "2          5.7                  158         1  \n",
       "3          5.0                  155         0  \n",
       "4          4.8                  155         0  "
      ]
     },
     "execution_count": 3,
     "metadata": {},
     "output_type": "execute_result"
    }
   ],
   "source": [
    "df.head()"
   ]
  },
  {
   "cell_type": "code",
   "execution_count": 4,
   "id": "bd50c458-ad73-4314-8138-c7f4f0e99d66",
   "metadata": {},
   "outputs": [
    {
     "data": {
      "text/html": [
       "<div>\n",
       "<style scoped>\n",
       "    .dataframe tbody tr th:only-of-type {\n",
       "        vertical-align: middle;\n",
       "    }\n",
       "\n",
       "    .dataframe tbody tr th {\n",
       "        vertical-align: top;\n",
       "    }\n",
       "\n",
       "    .dataframe thead th {\n",
       "        text-align: right;\n",
       "    }\n",
       "</style>\n",
       "<table border=\"1\" class=\"dataframe\">\n",
       "  <thead>\n",
       "    <tr style=\"text-align: right;\">\n",
       "      <th></th>\n",
       "      <th>gender</th>\n",
       "      <th>age</th>\n",
       "      <th>hypertension</th>\n",
       "      <th>heart_disease</th>\n",
       "      <th>smoking_history</th>\n",
       "      <th>bmi</th>\n",
       "      <th>HbA1c_level</th>\n",
       "      <th>blood_glucose_level</th>\n",
       "      <th>diabetes</th>\n",
       "    </tr>\n",
       "  </thead>\n",
       "  <tbody>\n",
       "    <tr>\n",
       "      <th>99995</th>\n",
       "      <td>Female</td>\n",
       "      <td>80.0</td>\n",
       "      <td>0</td>\n",
       "      <td>0</td>\n",
       "      <td>No Info</td>\n",
       "      <td>27.32</td>\n",
       "      <td>6.2</td>\n",
       "      <td>90</td>\n",
       "      <td>0</td>\n",
       "    </tr>\n",
       "    <tr>\n",
       "      <th>99996</th>\n",
       "      <td>Female</td>\n",
       "      <td>2.0</td>\n",
       "      <td>0</td>\n",
       "      <td>0</td>\n",
       "      <td>No Info</td>\n",
       "      <td>17.37</td>\n",
       "      <td>6.5</td>\n",
       "      <td>100</td>\n",
       "      <td>0</td>\n",
       "    </tr>\n",
       "    <tr>\n",
       "      <th>99997</th>\n",
       "      <td>Male</td>\n",
       "      <td>66.0</td>\n",
       "      <td>0</td>\n",
       "      <td>0</td>\n",
       "      <td>former</td>\n",
       "      <td>27.83</td>\n",
       "      <td>5.7</td>\n",
       "      <td>155</td>\n",
       "      <td>0</td>\n",
       "    </tr>\n",
       "    <tr>\n",
       "      <th>99998</th>\n",
       "      <td>Female</td>\n",
       "      <td>24.0</td>\n",
       "      <td>0</td>\n",
       "      <td>0</td>\n",
       "      <td>never</td>\n",
       "      <td>35.42</td>\n",
       "      <td>4.0</td>\n",
       "      <td>100</td>\n",
       "      <td>0</td>\n",
       "    </tr>\n",
       "    <tr>\n",
       "      <th>99999</th>\n",
       "      <td>Female</td>\n",
       "      <td>57.0</td>\n",
       "      <td>0</td>\n",
       "      <td>0</td>\n",
       "      <td>current</td>\n",
       "      <td>22.43</td>\n",
       "      <td>6.6</td>\n",
       "      <td>90</td>\n",
       "      <td>0</td>\n",
       "    </tr>\n",
       "  </tbody>\n",
       "</table>\n",
       "</div>"
      ],
      "text/plain": [
       "       gender   age  hypertension  heart_disease smoking_history    bmi  \\\n",
       "99995  Female  80.0             0              0         No Info  27.32   \n",
       "99996  Female   2.0             0              0         No Info  17.37   \n",
       "99997    Male  66.0             0              0          former  27.83   \n",
       "99998  Female  24.0             0              0           never  35.42   \n",
       "99999  Female  57.0             0              0         current  22.43   \n",
       "\n",
       "       HbA1c_level  blood_glucose_level  diabetes  \n",
       "99995          6.2                   90         0  \n",
       "99996          6.5                  100         0  \n",
       "99997          5.7                  155         0  \n",
       "99998          4.0                  100         0  \n",
       "99999          6.6                   90         0  "
      ]
     },
     "execution_count": 4,
     "metadata": {},
     "output_type": "execute_result"
    }
   ],
   "source": [
    "df.tail()"
   ]
  },
  {
   "cell_type": "markdown",
   "id": "a33caa69-41b6-4e65-83fd-7fb5a5d227d4",
   "metadata": {},
   "source": [
    "### Conclusion : Classification of Our Dataset Is Unreliable based on Last Column Before Our Targer Column (i.e blood_glucose_level & diabetes column)"
   ]
  },
  {
   "cell_type": "markdown",
   "id": "9085308f-e5cd-4782-97cc-f4eaa75435d8",
   "metadata": {},
   "source": [
    "### Checking For Missing Values"
   ]
  },
  {
   "cell_type": "code",
   "execution_count": 5,
   "id": "679671f2-a5ca-4879-a001-6ce2f4985a08",
   "metadata": {},
   "outputs": [
    {
     "data": {
      "text/plain": [
       "gender                 0\n",
       "age                    0\n",
       "hypertension           0\n",
       "heart_disease          0\n",
       "smoking_history        0\n",
       "bmi                    0\n",
       "HbA1c_level            0\n",
       "blood_glucose_level    0\n",
       "diabetes               0\n",
       "dtype: int64"
      ]
     },
     "execution_count": 5,
     "metadata": {},
     "output_type": "execute_result"
    }
   ],
   "source": [
    "df.isnull().sum()"
   ]
  },
  {
   "cell_type": "markdown",
   "id": "84f51c15-f2ec-4241-93c1-1b2540e672d6",
   "metadata": {},
   "source": [
    "### Checking For Duplicated Values"
   ]
  },
  {
   "cell_type": "code",
   "execution_count": 6,
   "id": "1aa4c4c0-8aec-4268-aa34-3d1a91915b8a",
   "metadata": {},
   "outputs": [
    {
     "data": {
      "text/plain": [
       "3854"
      ]
     },
     "execution_count": 6,
     "metadata": {},
     "output_type": "execute_result"
    }
   ],
   "source": [
    "df.duplicated().sum()"
   ]
  },
  {
   "cell_type": "markdown",
   "id": "a2b064b2-1434-41b2-8aad-40330743104b",
   "metadata": {},
   "source": [
    "### Removing Duplicates"
   ]
  },
  {
   "cell_type": "code",
   "execution_count": 7,
   "id": "f5f3b14a-7d3c-4d51-9b65-ce2bf3c9b386",
   "metadata": {},
   "outputs": [],
   "source": [
    "df.drop_duplicates(keep=\"first\",inplace=True)"
   ]
  },
  {
   "cell_type": "code",
   "execution_count": 8,
   "id": "54064781-2b13-49dd-96f9-b82b0fed9aed",
   "metadata": {},
   "outputs": [
    {
     "data": {
      "text/plain": [
       "0"
      ]
     },
     "execution_count": 8,
     "metadata": {},
     "output_type": "execute_result"
    }
   ],
   "source": [
    "df.duplicated().sum()"
   ]
  },
  {
   "cell_type": "code",
   "execution_count": 9,
   "id": "1408e8a5-7429-45a2-9313-e0a5bcad0167",
   "metadata": {},
   "outputs": [
    {
     "data": {
      "text/plain": [
       "(96146, 9)"
      ]
     },
     "execution_count": 9,
     "metadata": {},
     "output_type": "execute_result"
    }
   ],
   "source": [
    "df.shape"
   ]
  },
  {
   "cell_type": "code",
   "execution_count": 10,
   "id": "680f3748-69a7-4b28-8dac-47b7b9f3521e",
   "metadata": {},
   "outputs": [
    {
     "name": "stdout",
     "output_type": "stream",
     "text": [
      "<class 'pandas.core.frame.DataFrame'>\n",
      "Index: 96146 entries, 0 to 99999\n",
      "Data columns (total 9 columns):\n",
      " #   Column               Non-Null Count  Dtype  \n",
      "---  ------               --------------  -----  \n",
      " 0   gender               96146 non-null  object \n",
      " 1   age                  96146 non-null  float64\n",
      " 2   hypertension         96146 non-null  int64  \n",
      " 3   heart_disease        96146 non-null  int64  \n",
      " 4   smoking_history      96146 non-null  object \n",
      " 5   bmi                  96146 non-null  float64\n",
      " 6   HbA1c_level          96146 non-null  float64\n",
      " 7   blood_glucose_level  96146 non-null  int64  \n",
      " 8   diabetes             96146 non-null  int64  \n",
      "dtypes: float64(3), int64(4), object(2)\n",
      "memory usage: 7.3+ MB\n"
     ]
    }
   ],
   "source": [
    "df.info()"
   ]
  },
  {
   "cell_type": "code",
   "execution_count": 11,
   "id": "d4f7f612-bd5e-450f-b6fa-4f17ff73134a",
   "metadata": {},
   "outputs": [
    {
     "data": {
      "text/html": [
       "<div>\n",
       "<style scoped>\n",
       "    .dataframe tbody tr th:only-of-type {\n",
       "        vertical-align: middle;\n",
       "    }\n",
       "\n",
       "    .dataframe tbody tr th {\n",
       "        vertical-align: top;\n",
       "    }\n",
       "\n",
       "    .dataframe thead th {\n",
       "        text-align: right;\n",
       "    }\n",
       "</style>\n",
       "<table border=\"1\" class=\"dataframe\">\n",
       "  <thead>\n",
       "    <tr style=\"text-align: right;\">\n",
       "      <th></th>\n",
       "      <th>count</th>\n",
       "      <th>unique</th>\n",
       "      <th>top</th>\n",
       "      <th>freq</th>\n",
       "      <th>mean</th>\n",
       "      <th>std</th>\n",
       "      <th>min</th>\n",
       "      <th>25%</th>\n",
       "      <th>50%</th>\n",
       "      <th>75%</th>\n",
       "      <th>max</th>\n",
       "    </tr>\n",
       "  </thead>\n",
       "  <tbody>\n",
       "    <tr>\n",
       "      <th>gender</th>\n",
       "      <td>96146</td>\n",
       "      <td>3</td>\n",
       "      <td>Female</td>\n",
       "      <td>56161</td>\n",
       "      <td>NaN</td>\n",
       "      <td>NaN</td>\n",
       "      <td>NaN</td>\n",
       "      <td>NaN</td>\n",
       "      <td>NaN</td>\n",
       "      <td>NaN</td>\n",
       "      <td>NaN</td>\n",
       "    </tr>\n",
       "    <tr>\n",
       "      <th>age</th>\n",
       "      <td>96146.0</td>\n",
       "      <td>NaN</td>\n",
       "      <td>NaN</td>\n",
       "      <td>NaN</td>\n",
       "      <td>41.794326</td>\n",
       "      <td>22.462948</td>\n",
       "      <td>0.08</td>\n",
       "      <td>24.0</td>\n",
       "      <td>43.0</td>\n",
       "      <td>59.0</td>\n",
       "      <td>80.0</td>\n",
       "    </tr>\n",
       "    <tr>\n",
       "      <th>hypertension</th>\n",
       "      <td>96146.0</td>\n",
       "      <td>NaN</td>\n",
       "      <td>NaN</td>\n",
       "      <td>NaN</td>\n",
       "      <td>0.077601</td>\n",
       "      <td>0.267544</td>\n",
       "      <td>0.0</td>\n",
       "      <td>0.0</td>\n",
       "      <td>0.0</td>\n",
       "      <td>0.0</td>\n",
       "      <td>1.0</td>\n",
       "    </tr>\n",
       "    <tr>\n",
       "      <th>heart_disease</th>\n",
       "      <td>96146.0</td>\n",
       "      <td>NaN</td>\n",
       "      <td>NaN</td>\n",
       "      <td>NaN</td>\n",
       "      <td>0.040803</td>\n",
       "      <td>0.197833</td>\n",
       "      <td>0.0</td>\n",
       "      <td>0.0</td>\n",
       "      <td>0.0</td>\n",
       "      <td>0.0</td>\n",
       "      <td>1.0</td>\n",
       "    </tr>\n",
       "    <tr>\n",
       "      <th>smoking_history</th>\n",
       "      <td>96146</td>\n",
       "      <td>6</td>\n",
       "      <td>never</td>\n",
       "      <td>34398</td>\n",
       "      <td>NaN</td>\n",
       "      <td>NaN</td>\n",
       "      <td>NaN</td>\n",
       "      <td>NaN</td>\n",
       "      <td>NaN</td>\n",
       "      <td>NaN</td>\n",
       "      <td>NaN</td>\n",
       "    </tr>\n",
       "    <tr>\n",
       "      <th>bmi</th>\n",
       "      <td>96146.0</td>\n",
       "      <td>NaN</td>\n",
       "      <td>NaN</td>\n",
       "      <td>NaN</td>\n",
       "      <td>27.321461</td>\n",
       "      <td>6.767716</td>\n",
       "      <td>10.01</td>\n",
       "      <td>23.4</td>\n",
       "      <td>27.32</td>\n",
       "      <td>29.86</td>\n",
       "      <td>95.69</td>\n",
       "    </tr>\n",
       "    <tr>\n",
       "      <th>HbA1c_level</th>\n",
       "      <td>96146.0</td>\n",
       "      <td>NaN</td>\n",
       "      <td>NaN</td>\n",
       "      <td>NaN</td>\n",
       "      <td>5.532609</td>\n",
       "      <td>1.073232</td>\n",
       "      <td>3.5</td>\n",
       "      <td>4.8</td>\n",
       "      <td>5.8</td>\n",
       "      <td>6.2</td>\n",
       "      <td>9.0</td>\n",
       "    </tr>\n",
       "    <tr>\n",
       "      <th>blood_glucose_level</th>\n",
       "      <td>96146.0</td>\n",
       "      <td>NaN</td>\n",
       "      <td>NaN</td>\n",
       "      <td>NaN</td>\n",
       "      <td>138.218231</td>\n",
       "      <td>40.909771</td>\n",
       "      <td>80.0</td>\n",
       "      <td>100.0</td>\n",
       "      <td>140.0</td>\n",
       "      <td>159.0</td>\n",
       "      <td>300.0</td>\n",
       "    </tr>\n",
       "    <tr>\n",
       "      <th>diabetes</th>\n",
       "      <td>96146.0</td>\n",
       "      <td>NaN</td>\n",
       "      <td>NaN</td>\n",
       "      <td>NaN</td>\n",
       "      <td>0.088241</td>\n",
       "      <td>0.283646</td>\n",
       "      <td>0.0</td>\n",
       "      <td>0.0</td>\n",
       "      <td>0.0</td>\n",
       "      <td>0.0</td>\n",
       "      <td>1.0</td>\n",
       "    </tr>\n",
       "  </tbody>\n",
       "</table>\n",
       "</div>"
      ],
      "text/plain": [
       "                       count unique     top   freq        mean        std  \\\n",
       "gender                 96146      3  Female  56161         NaN        NaN   \n",
       "age                  96146.0    NaN     NaN    NaN   41.794326  22.462948   \n",
       "hypertension         96146.0    NaN     NaN    NaN    0.077601   0.267544   \n",
       "heart_disease        96146.0    NaN     NaN    NaN    0.040803   0.197833   \n",
       "smoking_history        96146      6   never  34398         NaN        NaN   \n",
       "bmi                  96146.0    NaN     NaN    NaN   27.321461   6.767716   \n",
       "HbA1c_level          96146.0    NaN     NaN    NaN    5.532609   1.073232   \n",
       "blood_glucose_level  96146.0    NaN     NaN    NaN  138.218231  40.909771   \n",
       "diabetes             96146.0    NaN     NaN    NaN    0.088241   0.283646   \n",
       "\n",
       "                       min    25%    50%    75%    max  \n",
       "gender                 NaN    NaN    NaN    NaN    NaN  \n",
       "age                   0.08   24.0   43.0   59.0   80.0  \n",
       "hypertension           0.0    0.0    0.0    0.0    1.0  \n",
       "heart_disease          0.0    0.0    0.0    0.0    1.0  \n",
       "smoking_history        NaN    NaN    NaN    NaN    NaN  \n",
       "bmi                  10.01   23.4  27.32  29.86  95.69  \n",
       "HbA1c_level            3.5    4.8    5.8    6.2    9.0  \n",
       "blood_glucose_level   80.0  100.0  140.0  159.0  300.0  \n",
       "diabetes               0.0    0.0    0.0    0.0    1.0  "
      ]
     },
     "execution_count": 11,
     "metadata": {},
     "output_type": "execute_result"
    }
   ],
   "source": [
    "df.describe(include=\"all\").T"
   ]
  },
  {
   "cell_type": "code",
   "execution_count": 12,
   "id": "35bf8d79-1a1f-4cf9-9122-40501e1af7e8",
   "metadata": {},
   "outputs": [
    {
     "data": {
      "text/plain": [
       "Index(['gender', 'age', 'hypertension', 'heart_disease', 'smoking_history',\n",
       "       'bmi', 'HbA1c_level', 'blood_glucose_level', 'diabetes'],\n",
       "      dtype='object')"
      ]
     },
     "execution_count": 12,
     "metadata": {},
     "output_type": "execute_result"
    }
   ],
   "source": [
    "df.columns"
   ]
  },
  {
   "cell_type": "markdown",
   "id": "bc2cd3ee-9662-40de-8e2e-3f69d8be45ca",
   "metadata": {},
   "source": [
    "### Finding All Unique Values"
   ]
  },
  {
   "cell_type": "code",
   "execution_count": 13,
   "id": "7b91a597-2ac8-4aef-bb63-ba7050f12691",
   "metadata": {},
   "outputs": [
    {
     "data": {
      "text/plain": [
       "array(['never', 'No Info', 'current', 'former', 'ever', 'not current'],\n",
       "      dtype=object)"
      ]
     },
     "execution_count": 13,
     "metadata": {},
     "output_type": "execute_result"
    }
   ],
   "source": [
    "df['smoking_history'].unique()"
   ]
  },
  {
   "cell_type": "markdown",
   "id": "fc55b1e2-4cd2-4629-b00e-ef7a0ed172c3",
   "metadata": {},
   "source": [
    "    'never': Indicates individuals who have never smoked.\n",
    "    'No Info': Suggests that there is no information available regarding their smoking history.\n",
    "    'current': Represents individuals who currently smoke.\n",
    "    'former': Indicates individuals who used to smoke but have quit.\n",
    "    'ever': Possibly indicating individuals who have smoked at some point, irrespective of current status.\n",
    "    'not current': Suggests individuals who are not currently smoking."
   ]
  },
  {
   "cell_type": "markdown",
   "id": "11c5d444-5640-4e09-8867-7bafe0a9a4d9",
   "metadata": {},
   "source": [
    "### Mapping Values To Unique Numerical Values"
   ]
  },
  {
   "cell_type": "code",
   "execution_count": 14,
   "id": "5553c2bf-57e7-4510-8f7a-d4d45f2a19aa",
   "metadata": {},
   "outputs": [
    {
     "data": {
      "text/html": [
       "<div>\n",
       "<style scoped>\n",
       "    .dataframe tbody tr th:only-of-type {\n",
       "        vertical-align: middle;\n",
       "    }\n",
       "\n",
       "    .dataframe tbody tr th {\n",
       "        vertical-align: top;\n",
       "    }\n",
       "\n",
       "    .dataframe thead th {\n",
       "        text-align: right;\n",
       "    }\n",
       "</style>\n",
       "<table border=\"1\" class=\"dataframe\">\n",
       "  <thead>\n",
       "    <tr style=\"text-align: right;\">\n",
       "      <th></th>\n",
       "      <th>gender</th>\n",
       "      <th>age</th>\n",
       "      <th>hypertension</th>\n",
       "      <th>heart_disease</th>\n",
       "      <th>smoking_history</th>\n",
       "      <th>bmi</th>\n",
       "      <th>HbA1c_level</th>\n",
       "      <th>blood_glucose_level</th>\n",
       "      <th>diabetes</th>\n",
       "    </tr>\n",
       "  </thead>\n",
       "  <tbody>\n",
       "    <tr>\n",
       "      <th>0</th>\n",
       "      <td>Female</td>\n",
       "      <td>80.0</td>\n",
       "      <td>0</td>\n",
       "      <td>1</td>\n",
       "      <td>0</td>\n",
       "      <td>25.19</td>\n",
       "      <td>6.6</td>\n",
       "      <td>140</td>\n",
       "      <td>1</td>\n",
       "    </tr>\n",
       "    <tr>\n",
       "      <th>1</th>\n",
       "      <td>Female</td>\n",
       "      <td>54.0</td>\n",
       "      <td>0</td>\n",
       "      <td>0</td>\n",
       "      <td>1</td>\n",
       "      <td>27.32</td>\n",
       "      <td>6.6</td>\n",
       "      <td>80</td>\n",
       "      <td>0</td>\n",
       "    </tr>\n",
       "    <tr>\n",
       "      <th>2</th>\n",
       "      <td>Male</td>\n",
       "      <td>28.0</td>\n",
       "      <td>0</td>\n",
       "      <td>0</td>\n",
       "      <td>0</td>\n",
       "      <td>27.32</td>\n",
       "      <td>5.7</td>\n",
       "      <td>158</td>\n",
       "      <td>1</td>\n",
       "    </tr>\n",
       "    <tr>\n",
       "      <th>3</th>\n",
       "      <td>Female</td>\n",
       "      <td>36.0</td>\n",
       "      <td>0</td>\n",
       "      <td>0</td>\n",
       "      <td>2</td>\n",
       "      <td>23.45</td>\n",
       "      <td>5.0</td>\n",
       "      <td>155</td>\n",
       "      <td>0</td>\n",
       "    </tr>\n",
       "    <tr>\n",
       "      <th>4</th>\n",
       "      <td>Male</td>\n",
       "      <td>76.0</td>\n",
       "      <td>1</td>\n",
       "      <td>1</td>\n",
       "      <td>2</td>\n",
       "      <td>20.14</td>\n",
       "      <td>4.8</td>\n",
       "      <td>155</td>\n",
       "      <td>0</td>\n",
       "    </tr>\n",
       "  </tbody>\n",
       "</table>\n",
       "</div>"
      ],
      "text/plain": [
       "   gender   age  hypertension  heart_disease  smoking_history    bmi  \\\n",
       "0  Female  80.0             0              1                0  25.19   \n",
       "1  Female  54.0             0              0                1  27.32   \n",
       "2    Male  28.0             0              0                0  27.32   \n",
       "3  Female  36.0             0              0                2  23.45   \n",
       "4    Male  76.0             1              1                2  20.14   \n",
       "\n",
       "   HbA1c_level  blood_glucose_level  diabetes  \n",
       "0          6.6                  140         1  \n",
       "1          6.6                   80         0  \n",
       "2          5.7                  158         1  \n",
       "3          5.0                  155         0  \n",
       "4          4.8                  155         0  "
      ]
     },
     "execution_count": 14,
     "metadata": {},
     "output_type": "execute_result"
    }
   ],
   "source": [
    "df['smoking_history'] = df['smoking_history'].fillna(-1).map({'never':0, 'No Info':1, 'current':2, 'former':3,'ever':4,'not current':5})\n",
    "df.head()"
   ]
  },
  {
   "cell_type": "code",
   "execution_count": 15,
   "id": "a1ec717a-4706-4939-a733-8ea6828903dd",
   "metadata": {},
   "outputs": [
    {
     "data": {
      "text/plain": [
       "smoking_history\n",
       "0    34398\n",
       "1    32887\n",
       "2     9197\n",
       "3     9299\n",
       "4     3998\n",
       "5     6367\n",
       "Name: smoking_history, dtype: int64"
      ]
     },
     "execution_count": 15,
     "metadata": {},
     "output_type": "execute_result"
    }
   ],
   "source": [
    "df['smoking_history'].groupby(df.smoking_history).count()"
   ]
  },
  {
   "cell_type": "code",
   "execution_count": 16,
   "id": "3a204d66-9280-4f93-a495-36a32e5f2a56",
   "metadata": {},
   "outputs": [
    {
     "data": {
      "text/plain": [
       "1.32095979031889"
      ]
     },
     "execution_count": 16,
     "metadata": {},
     "output_type": "execute_result"
    }
   ],
   "source": [
    "df['smoking_history'].mean()"
   ]
  },
  {
   "cell_type": "code",
   "execution_count": 17,
   "id": "0f063f88-f788-4391-aafe-6579f6857646",
   "metadata": {},
   "outputs": [
    {
     "data": {
      "text/plain": [
       "1.0"
      ]
     },
     "execution_count": 17,
     "metadata": {},
     "output_type": "execute_result"
    }
   ],
   "source": [
    "df['smoking_history'].median()"
   ]
  },
  {
   "cell_type": "code",
   "execution_count": 18,
   "id": "bf34f3cd-1db6-4a27-b684-b43f313b3202",
   "metadata": {},
   "outputs": [
    {
     "data": {
      "text/plain": [
       "0    0\n",
       "Name: smoking_history, dtype: int64"
      ]
     },
     "execution_count": 18,
     "metadata": {},
     "output_type": "execute_result"
    }
   ],
   "source": [
    "df['smoking_history'].mode()"
   ]
  },
  {
   "cell_type": "code",
   "execution_count": 19,
   "id": "dd2bc8b1-a26f-49ab-81f9-64e3458108a7",
   "metadata": {},
   "outputs": [
    {
     "data": {
      "text/plain": [
       "<Axes: xlabel='smoking_history', ylabel='Count'>"
      ]
     },
     "execution_count": 19,
     "metadata": {},
     "output_type": "execute_result"
    },
    {
     "data": {
      "image/png": "[encoded data removed]",
      "text/plain": [
       "<Figure size 640x480 with 1 Axes>"
      ]
     },
     "metadata": {},
     "output_type": "display_data"
    }
   ],
   "source": [
    "sns.histplot(df['smoking_history'],kde=True)"
   ]
  },
  {
   "cell_type": "markdown",
   "id": "ba5589ea-b4bb-4b85-a0be-f93707432289",
   "metadata": {},
   "source": [
    "### Imputing Missing Values If Necessary"
   ]
  },
  {
   "cell_type": "code",
   "execution_count": 20,
   "id": "bd69b160-e61d-4764-a7eb-637224e8e0da",
   "metadata": {},
   "outputs": [
    {
     "data": {
      "text/plain": [
       "\"imputer = SimpleImputer(strategy='most_frequent')\\ndf['smoking_history'].replace(1, np.nan, inplace=True)\\nimputed_data = imputer.fit_transform(df)\\n#imputed_data = imputer.fit_transform(df)\\ndf_imputed = pd.DataFrame(imputed_data, columns=df.columns)\\ndf_imputed \""
      ]
     },
     "execution_count": 20,
     "metadata": {},
     "output_type": "execute_result"
    }
   ],
   "source": [
    "'''imputer = SimpleImputer(strategy='most_frequent')\n",
    "df['smoking_history'].replace(1, np.nan, inplace=True)\n",
    "imputed_data = imputer.fit_transform(df)\n",
    "#imputed_data = imputer.fit_transform(df)\n",
    "df_imputed = pd.DataFrame(imputed_data, columns=df.columns)\n",
    "df_imputed '''"
   ]
  },
  {
   "cell_type": "code",
   "execution_count": 21,
   "id": "ae83407b-cf9a-488e-856f-f3f6b5fc7440",
   "metadata": {},
   "outputs": [
    {
     "data": {
      "text/plain": [
       "gender\n",
       "Female    56161\n",
       "Male      39967\n",
       "Other        18\n",
       "Name: gender, dtype: int64"
      ]
     },
     "execution_count": 21,
     "metadata": {},
     "output_type": "execute_result"
    }
   ],
   "source": [
    "df['gender'].groupby(df.gender).count()"
   ]
  },
  {
   "cell_type": "markdown",
   "id": "c887d1aa-0f37-4e86-b5ea-8441178eb9d3",
   "metadata": {},
   "source": [
    "### Mapping Unique Numerical Values In Gender Column"
   ]
  },
  {
   "cell_type": "code",
   "execution_count": 22,
   "id": "d499a541-73f7-4008-825d-d04303d68dcb",
   "metadata": {},
   "outputs": [],
   "source": [
    "df['gender']=df['gender'].map({\"Male\":1,\"Other\":0,\"Female\":2})"
   ]
  },
  {
   "cell_type": "markdown",
   "id": "7900af43-ab06-47e9-9ebe-c342e19bb527",
   "metadata": {},
   "source": [
    "### As we can see after doing EDA our Dataset may have  Wrong Classification of  Diabetic Patient so Making it correct based  on medical data and medical assumptions provided from internet its better to use Gemini or ChatGPT for finding this Medical Assumptions"
   ]
  },
  {
   "cell_type": "markdown",
   "id": "d6894e08-9118-44a3-9d3d-0dba56755710",
   "metadata": {},
   "source": [
    "To label individuals as diabetic or not based on the provided data, we typically consider the HbA1c level and blood glucose level. The criteria for diabetes diagnosis may vary slightly depending on the specific guidelines followed, but generally speaking, the following criteria are often used:\n",
    "\n",
    "    HbA1c level:\n",
    "        Normal: Less than 5.7%\n",
    "        Prediabetes: 5.7% to 6.4%\n",
    "        Diabetes: 6.5% or higher\n",
    "\n",
    "    Fasting blood glucose level:\n",
    "        Normal: Less than 100 mg/dL\n",
    "        Prediabetes: 100 mg/dL to 125 mg/dL\n",
    "        Diabetes: 126 mg/dL or higher\n",
    "\n",
    "Based on these criteria, we can evaluate each individual's diabetic status"
   ]
  },
  {
   "cell_type": "markdown",
   "id": "52326bd0-2343-4232-8359-1bc51df66dab",
   "metadata": {},
   "source": [
    "## Correcting The Classification for Diabetes"
   ]
  },
  {
   "cell_type": "code",
   "execution_count": 23,
   "id": "f8a0dd5f-565e-4df2-830b-6651c3f0e5cc",
   "metadata": {},
   "outputs": [],
   "source": [
    "df['diabetes'] = 0 "
   ]
  },
  {
   "cell_type": "code",
   "execution_count": 24,
   "id": "f7fe2b52-8545-4012-acd9-08bebbfd2a60",
   "metadata": {},
   "outputs": [],
   "source": [
    "df.loc[(df['HbA1c_level'] >= 5.7) | (df['blood_glucose_level'] >= 100), 'diabetes'] = 1"
   ]
  },
  {
   "cell_type": "code",
   "execution_count": 25,
   "id": "f05e484c-6cde-483e-a935-a8ad4a63194f",
   "metadata": {},
   "outputs": [],
   "source": [
    "df_filtered_0=df[df['diabetes'] == 0]\n",
    "df_filtered_1=df[df['diabetes'] == 0]"
   ]
  },
  {
   "cell_type": "code",
   "execution_count": 26,
   "id": "2942ea05-0983-4728-805b-8ab3bfe9d2da",
   "metadata": {},
   "outputs": [
    {
     "data": {
      "text/plain": [
       "(8395, 9)"
      ]
     },
     "execution_count": 26,
     "metadata": {},
     "output_type": "execute_result"
    }
   ],
   "source": [
    "df_filtered_0.shape"
   ]
  },
  {
   "cell_type": "code",
   "execution_count": 27,
   "id": "9ff22496-78d1-4e81-8565-c6cc2e9a0856",
   "metadata": {},
   "outputs": [
    {
     "data": {
      "text/plain": [
       "(8395, 9)"
      ]
     },
     "execution_count": 27,
     "metadata": {},
     "output_type": "execute_result"
    }
   ],
   "source": [
    "df_filtered_1.shape"
   ]
  },
  {
   "cell_type": "markdown",
   "id": "f5a35564-1bb4-478f-9c19-0520c4a3b259",
   "metadata": {},
   "source": [
    "## Plotting Correlation Heat Map"
   ]
  },
  {
   "cell_type": "code",
   "execution_count": 28,
   "id": "3683e46d-7fbc-4b28-947d-6ef89395d2df",
   "metadata": {},
   "outputs": [
    {
     "data": {
      "text/plain": [
       "<Axes: >"
      ]
     },
     "execution_count": 28,
     "metadata": {},
     "output_type": "execute_result"
    },
    {
     "data": {
      "image/png": "[encoded data removed]",
      "text/plain": [
       "<Figure size 640x480 with 2 Axes>"
      ]
     },
     "metadata": {},
     "output_type": "display_data"
    }
   ],
   "source": [
    "sns.heatmap(data=df.corr(), annot=True, fmt='.2f')"
   ]
  },
  {
   "cell_type": "markdown",
   "id": "fd16c5cd-8011-4851-94df-9e34474b072f",
   "metadata": {},
   "source": [
    "## Plotting BoxPlot To find Outliers"
   ]
  },
  {
   "cell_type": "markdown",
   "id": "b4e3a6e1-5b2f-438d-8f40-9ec91a494ff0",
   "metadata": {},
   "source": [
    "### The outliers appear as red circles with a larger size"
   ]
  },
  {
   "cell_type": "code",
   "execution_count": 29,
   "id": "bf6f7457-b053-49be-b8a5-fcf9b0a92e38",
   "metadata": {},
   "outputs": [
    {
     "data": {
      "text/plain": [
       "<Axes: xlabel='gender', ylabel='blood_glucose_level'>"
      ]
     },
     "execution_count": 29,
     "metadata": {},
     "output_type": "execute_result"
    },
    {
     "data": {
      "image/png": "[encoded data removed]",
      "text/plain": [
       "<Figure size 640x480 with 1 Axes>"
      ]
     },
     "metadata": {},
     "output_type": "display_data"
    }
   ],
   "source": [
    "sns.boxplot(x='gender', y='blood_glucose_level',hue='diabetes',whiskerprops={'linewidth': 1.5, 'color': 'blue'}, \n",
    "            flierprops={'marker': 'o', 'markerfacecolor': 'red', 'markersize': 8}, data=df)"
   ]
  },
  {
   "cell_type": "code",
   "execution_count": 30,
   "id": "258f254d-ec9b-49d7-ac9b-bbd631b5a1ec",
   "metadata": {},
   "outputs": [
    {
     "data": {
      "text/plain": [
       "<Axes: xlabel='gender', ylabel='HbA1c_level'>"
      ]
     },
     "execution_count": 30,
     "metadata": {},
     "output_type": "execute_result"
    },
    {
     "data": {
      "image/png": "[encoded data removed]",
      "text/plain": [
       "<Figure size 640x480 with 1 Axes>"
      ]
     },
     "metadata": {},
     "output_type": "display_data"
    }
   ],
   "source": [
    "sns.boxplot(x='gender', y='HbA1c_level',hue='diabetes',whiskerprops={'linewidth': 1.5, 'color': 'blue'}, \n",
    "            flierprops={'marker': 'o', 'markerfacecolor': 'red', 'markersize': 8}, data=df)"
   ]
  },
  {
   "cell_type": "code",
   "execution_count": 31,
   "id": "48958638-39c4-4c02-b306-0543098acf8f",
   "metadata": {},
   "outputs": [
    {
     "data": {
      "text/plain": [
       "<Axes: xlabel='HbA1c_level', ylabel='blood_glucose_level'>"
      ]
     },
     "execution_count": 31,
     "metadata": {},
     "output_type": "execute_result"
    },
    {
     "data": {
      "image/png": "[encoded data removed]",
      "text/plain": [
       "<Figure size 640x480 with 1 Axes>"
      ]
     },
     "metadata": {},
     "output_type": "display_data"
    }
   ],
   "source": [
    "sns.boxplot(x='HbA1c_level', y='blood_glucose_level',hue='diabetes',whiskerprops={'linewidth': 1.5, 'color': 'blue'}, \n",
    "            flierprops={'marker': 'o', 'markerfacecolor': 'red', 'markersize': 8}, data=df)"
   ]
  },
  {
   "cell_type": "code",
   "execution_count": 32,
   "id": "c4c798f6-ae14-4e8b-919a-a686929dc647",
   "metadata": {},
   "outputs": [
    {
     "data": {
      "text/plain": [
       "<Axes: xlabel='blood_glucose_level', ylabel='HbA1c_level'>"
      ]
     },
     "execution_count": 32,
     "metadata": {},
     "output_type": "execute_result"
    },
    {
     "data": {
      "image/png": "[encoded data removed]",
      "text/plain": [
       "<Figure size 640x480 with 1 Axes>"
      ]
     },
     "metadata": {},
     "output_type": "display_data"
    }
   ],
   "source": [
    "sns.boxplot(y='HbA1c_level', x='blood_glucose_level',hue='diabetes',whiskerprops={'linewidth': 1.5, 'color': 'blue'}, \n",
    "            flierprops={'marker': 'o', 'markerfacecolor': 'red', 'markersize': 8}, data=df)"
   ]
  },
  {
   "cell_type": "markdown",
   "id": "4930c9b8-d48e-462f-99a6-895f91612b3d",
   "metadata": {},
   "source": [
    "## Handeling Required Outliers "
   ]
  },
  {
   "cell_type": "code",
   "execution_count": 33,
   "id": "d82a3f9a-6d26-4883-985c-f951a47e61c5",
   "metadata": {},
   "outputs": [],
   "source": [
    "df['blood_glucose_level'] = winsorize(df['blood_glucose_level'], limits=(0.05, 0.05))"
   ]
  },
  {
   "cell_type": "code",
   "execution_count": 34,
   "id": "dfc39ce4-5357-4905-8194-a156daaa1d7b",
   "metadata": {},
   "outputs": [
    {
     "data": {
      "text/plain": [
       "<Axes: xlabel='gender', ylabel='blood_glucose_level'>"
      ]
     },
     "execution_count": 34,
     "metadata": {},
     "output_type": "execute_result"
    },
    {
     "data": {
      "image/png": "[encoded data removed]",
      "text/plain": [
       "<Figure size 640x480 with 1 Axes>"
      ]
     },
     "metadata": {},
     "output_type": "display_data"
    }
   ],
   "source": [
    "sns.boxplot(x='gender', y='blood_glucose_level',hue='diabetes',whiskerprops={'linewidth': 1.5, 'color': 'blue'}, \n",
    "            flierprops={'marker': 'o', 'markerfacecolor': 'red', 'markersize': 8}, data=df)"
   ]
  },
  {
   "cell_type": "code",
   "execution_count": 35,
   "id": "91c5c58f-6ceb-41a7-a465-0b60bb66eb42",
   "metadata": {},
   "outputs": [],
   "source": [
    "dff=df#.replace(np.nan,1)\n",
    "#dff.dropna(inplace=True)"
   ]
  },
  {
   "cell_type": "code",
   "execution_count": 36,
   "id": "4a341bff-4bb3-469a-9ebb-f9179c48e56b",
   "metadata": {},
   "outputs": [
    {
     "data": {
      "text/plain": [
       "(       gender   age  hypertension  heart_disease  smoking_history    bmi  \\\n",
       " 0           2  80.0             0              1                0  25.19   \n",
       " 1           2  54.0             0              0                1  27.32   \n",
       " 2           1  28.0             0              0                0  27.32   \n",
       " 3           2  36.0             0              0                2  23.45   \n",
       " 4           1  76.0             1              1                2  20.14   \n",
       " ...       ...   ...           ...            ...              ...    ...   \n",
       " 99994       2  36.0             0              0                1  24.60   \n",
       " 99996       2   2.0             0              0                1  17.37   \n",
       " 99997       1  66.0             0              0                3  27.83   \n",
       " 99998       2  24.0             0              0                0  35.42   \n",
       " 99999       2  57.0             0              0                2  22.43   \n",
       " \n",
       "        HbA1c_level  blood_glucose_level  \n",
       " 0              6.6                  140  \n",
       " 1              6.6                   80  \n",
       " 2              5.7                  158  \n",
       " 3              5.0                  155  \n",
       " 4              4.8                  155  \n",
       " ...            ...                  ...  \n",
       " 99994          4.8                  145  \n",
       " 99996          6.5                  100  \n",
       " 99997          5.7                  155  \n",
       " 99998          4.0                  100  \n",
       " 99999          6.6                   90  \n",
       " \n",
       " [96146 rows x 8 columns],\n",
       " 0        1\n",
       " 1        1\n",
       " 2        1\n",
       " 3        1\n",
       " 4        1\n",
       "         ..\n",
       " 99994    1\n",
       " 99996    1\n",
       " 99997    1\n",
       " 99998    1\n",
       " 99999    1\n",
       " Name: diabetes, Length: 96146, dtype: int64)"
      ]
     },
     "execution_count": 36,
     "metadata": {},
     "output_type": "execute_result"
    }
   ],
   "source": [
    "X = dff.drop(columns='diabetes',axis=1)\n",
    "y = dff['diabetes'] # Target\n",
    "X,y"
   ]
  },
  {
   "cell_type": "markdown",
   "id": "86e9b9e5-625a-40ab-8ee3-d453672de07e",
   "metadata": {},
   "source": [
    "## Splitting Data Into Train And Test Datasets"
   ]
  },
  {
   "cell_type": "code",
   "execution_count": 37,
   "id": "c909f709-c9c2-4e84-ba28-6091bfe427f5",
   "metadata": {},
   "outputs": [],
   "source": [
    "X_train,X_test,y_train,y_test=train_test_split(X,y,test_size=0.20,random_state=42)"
   ]
  },
  {
   "cell_type": "markdown",
   "id": "f6416b85-081c-412c-8a1a-1b9718f8a8b0",
   "metadata": {},
   "source": [
    "## Making Pipline To find Better Classifier For Current Task"
   ]
  },
  {
   "cell_type": "code",
   "execution_count": 38,
   "id": "7ac26c82-f84b-4ee1-99b2-3f09410d2833",
   "metadata": {},
   "outputs": [],
   "source": [
    "pipeline_hgb  = Pipeline([('scalar1',StandardScaler()),('hgb_classifier',HistGradientBoostingClassifier())])\n",
    "pipeline_svc = Pipeline([('scalar2',StandardScaler()),('svc_classifier',SVC())])\n",
    "pipeline_dt = Pipeline([('scalar3',StandardScaler()),('dt_classifier',DecisionTreeClassifier())])\n",
    "pipeline_rf = Pipeline([('scalar4',StandardScaler()),('rf_classifier',RandomForestClassifier())])\n",
    "pipeline_gbc = Pipeline([('scalar5',StandardScaler()),('gbc_classifier',GradientBoostingClassifier())])\n",
    "pipeline_sgd = Pipeline([('scalar6',StandardScaler()),('sgd_classifier',SGDClassifier())])"
   ]
  },
  {
   "cell_type": "code",
   "execution_count": 39,
   "id": "335ee1ab-980d-4555-af26-56cc0460f4e2",
   "metadata": {},
   "outputs": [],
   "source": [
    "pipelines = [pipeline_hgb,\n",
    "            pipeline_svc,\n",
    "            pipeline_dt,\n",
    "            pipeline_rf,\n",
    "            pipeline_gbc,\n",
    "            pipeline_sgd]"
   ]
  },
  {
   "cell_type": "code",
   "execution_count": 40,
   "id": "1f3e4d73-f019-448e-860b-b6e5204e4e6b",
   "metadata": {},
   "outputs": [],
   "source": [
    "for pipe in pipelines:\n",
    "    pipe.fit(X_train,y_train)"
   ]
  },
  {
   "cell_type": "code",
   "execution_count": 41,
   "id": "9773d316-dc8f-4f31-b2e0-94e26ef44c58",
   "metadata": {},
   "outputs": [],
   "source": [
    "pipe_dict = {0:'HGB',\n",
    "             1:'SVC',\n",
    "             2:'DT',\n",
    "             3: 'RF',\n",
    "             4: 'GBC',\n",
    "             5: 'SGD'}"
   ]
  },
  {
   "cell_type": "markdown",
   "id": "40af43cb-daa8-47a6-977e-6dfb474f9683",
   "metadata": {},
   "source": [
    "### Selecting Best Classifier Based On Highest Accuracy Given"
   ]
  },
  {
   "cell_type": "code",
   "execution_count": 42,
   "id": "5830ef34-1faf-45f2-9c6a-8af6ab35feb1",
   "metadata": {},
   "outputs": [
    {
     "name": "stdout",
     "output_type": "stream",
     "text": [
      "HGB Test Accuracy:100.0\n",
      "SVC Test Accuracy:99.9011960478419\n",
      "DT Test Accuracy:100.0\n",
      "RF Test Accuracy:100.0\n",
      "GBC Test Accuracy:100.0\n",
      "SGD Test Accuracy:97.88871554862195\n"
     ]
    }
   ],
   "source": [
    "for i,model in enumerate(pipelines):\n",
    "    print(\"{} Test Accuracy:{}\".format(pipe_dict[i],model.score(X_test,y_test)*100))"
   ]
  },
  {
   "cell_type": "code",
   "execution_count": 43,
   "id": "8aeedf8a-b7b3-415b-a18b-f636d07500c5",
   "metadata": {},
   "outputs": [
    {
     "data": {
      "text/html": [
       "<style>#sk-container-id-1 {\n",
       "  /* Definition of color scheme common for light and dark mode */\n",
       "  --sklearn-color-text: black;\n",
       "  --sklearn-color-line: gray;\n",
       "  /* Definition of color scheme for unfitted estimators */\n",
       "  --sklearn-color-unfitted-level-0: #fff5e6;\n",
       "  --sklearn-color-unfitted-level-1: #f6e4d2;\n",
       "  --sklearn-color-unfitted-level-2: #ffe0b3;\n",
       "  --sklearn-color-unfitted-level-3: chocolate;\n",
       "  /* Definition of color scheme for fitted estimators */\n",
       "  --sklearn-color-fitted-level-0: #f0f8ff;\n",
       "  --sklearn-color-fitted-level-1: #d4ebff;\n",
       "  --sklearn-color-fitted-level-2: #b3dbfd;\n",
       "  --sklearn-color-fitted-level-3: cornflowerblue;\n",
       "\n",
       "  /* Specific color for light theme */\n",
       "  --sklearn-color-text-on-default-background: var(--sg-text-color, var(--theme-code-foreground, var(--jp-content-font-color1, black)));\n",
       "  --sklearn-color-background: var(--sg-background-color, var(--theme-background, var(--jp-layout-color0, white)));\n",
       "  --sklearn-color-border-box: var(--sg-text-color, var(--theme-code-foreground, var(--jp-content-font-color1, black)));\n",
       "  --sklearn-color-icon: #696969;\n",
       "\n",
       "  @media (prefers-color-scheme: dark) {\n",
       "    /* Redefinition of color scheme for dark theme */\n",
       "    --sklearn-color-text-on-default-background: var(--sg-text-color, var(--theme-code-foreground, var(--jp-content-font-color1, white)));\n",
       "    --sklearn-color-background: var(--sg-background-color, var(--theme-background, var(--jp-layout-color0, #111)));\n",
       "    --sklearn-color-border-box: var(--sg-text-color, var(--theme-code-foreground, var(--jp-content-font-color1, white)));\n",
       "    --sklearn-color-icon: #878787;\n",
       "  }\n",
       "}\n",
       "\n",
       "#sk-container-id-1 {\n",
       "  color: var(--sklearn-color-text);\n",
       "}\n",
       "\n",
       "#sk-container-id-1 pre {\n",
       "  padding: 0;\n",
       "}\n",
       "\n",
       "#sk-container-id-1 input.sk-hidden--visually {\n",
       "  border: 0;\n",
       "  clip: rect(1px 1px 1px 1px);\n",
       "  clip: rect(1px, 1px, 1px, 1px);\n",
       "  height: 1px;\n",
       "  margin: -1px;\n",
       "  overflow: hidden;\n",
       "  padding: 0;\n",
       "  position: absolute;\n",
       "  width: 1px;\n",
       "}\n",
       "\n",
       "#sk-container-id-1 div.sk-dashed-wrapped {\n",
       "  border: 1px dashed var(--sklearn-color-line);\n",
       "  margin: 0 0.4em 0.5em 0.4em;\n",
       "  box-sizing: border-box;\n",
       "  padding-bottom: 0.4em;\n",
       "  background-color: var(--sklearn-color-background);\n",
       "}\n",
       "\n",
       "#sk-container-id-1 div.sk-container {\n",
       "  /* jupyter's `normalize.less` sets `[hidden] { display: none; }`\n",
       "     but bootstrap.min.css set `[hidden] { display: none !important; }`\n",
       "     so we also need the `!important` here to be able to override the\n",
       "     default hidden behavior on the sphinx rendered scikit-learn.org.\n",
       "     See: https://github.com/scikit-learn/scikit-learn/issues/21755 */\n",
       "  display: inline-block !important;\n",
       "  position: relative;\n",
       "}\n",
       "\n",
       "#sk-container-id-1 div.sk-text-repr-fallback {\n",
       "  display: none;\n",
       "}\n",
       "\n",
       "div.sk-parallel-item,\n",
       "div.sk-serial,\n",
       "div.sk-item {\n",
       "  /* draw centered vertical line to link estimators */\n",
       "  background-image: linear-gradient(var(--sklearn-color-text-on-default-background), var(--sklearn-color-text-on-default-background));\n",
       "  background-size: 2px 100%;\n",
       "  background-repeat: no-repeat;\n",
       "  background-position: center center;\n",
       "}\n",
       "\n",
       "/* Parallel-specific style estimator block */\n",
       "\n",
       "#sk-container-id-1 div.sk-parallel-item::after {\n",
       "  content: \"\";\n",
       "  width: 100%;\n",
       "  border-bottom: 2px solid var(--sklearn-color-text-on-default-background);\n",
       "  flex-grow: 1;\n",
       "}\n",
       "\n",
       "#sk-container-id-1 div.sk-parallel {\n",
       "  display: flex;\n",
       "  align-items: stretch;\n",
       "  justify-content: center;\n",
       "  background-color: var(--sklearn-color-background);\n",
       "  position: relative;\n",
       "}\n",
       "\n",
       "#sk-container-id-1 div.sk-parallel-item {\n",
       "  display: flex;\n",
       "  flex-direction: column;\n",
       "}\n",
       "\n",
       "#sk-container-id-1 div.sk-parallel-item:first-child::after {\n",
       "  align-self: flex-end;\n",
       "  width: 50%;\n",
       "}\n",
       "\n",
       "#sk-container-id-1 div.sk-parallel-item:last-child::after {\n",
       "  align-self: flex-start;\n",
       "  width: 50%;\n",
       "}\n",
       "\n",
       "#sk-container-id-1 div.sk-parallel-item:only-child::after {\n",
       "  width: 0;\n",
       "}\n",
       "\n",
       "/* Serial-specific style estimator block */\n",
       "\n",
       "#sk-container-id-1 div.sk-serial {\n",
       "  display: flex;\n",
       "  flex-direction: column;\n",
       "  align-items: center;\n",
       "  background-color: var(--sklearn-color-background);\n",
       "  padding-right: 1em;\n",
       "  padding-left: 1em;\n",
       "}\n",
       "\n",
       "\n",
       "/* Toggleable style: style used for estimator/Pipeline/ColumnTransformer box that is\n",
       "clickable and can be expanded/collapsed.\n",
       "- Pipeline and ColumnTransformer use this feature and define the default style\n",
       "- Estimators will overwrite some part of the style using the `sk-estimator` class\n",
       "*/\n",
       "\n",
       "/* Pipeline and ColumnTransformer style (default) */\n",
       "\n",
       "#sk-container-id-1 div.sk-toggleable {\n",
       "  /* Default theme specific background. It is overwritten whether we have a\n",
       "  specific estimator or a Pipeline/ColumnTransformer */\n",
       "  background-color: var(--sklearn-color-background);\n",
       "}\n",
       "\n",
       "/* Toggleable label */\n",
       "#sk-container-id-1 label.sk-toggleable__label {\n",
       "  cursor: pointer;\n",
       "  display: block;\n",
       "  width: 100%;\n",
       "  margin-bottom: 0;\n",
       "  padding: 0.5em;\n",
       "  box-sizing: border-box;\n",
       "  text-align: center;\n",
       "}\n",
       "\n",
       "#sk-container-id-1 label.sk-toggleable__label-arrow:before {\n",
       "  /* Arrow on the left of the label */\n",
       "  content: \"▸\";\n",
       "  float: left;\n",
       "  margin-right: 0.25em;\n",
       "  color: var(--sklearn-color-icon);\n",
       "}\n",
       "\n",
       "#sk-container-id-1 label.sk-toggleable__label-arrow:hover:before {\n",
       "  color: var(--sklearn-color-text);\n",
       "}\n",
       "\n",
       "/* Toggleable content - dropdown */\n",
       "\n",
       "#sk-container-id-1 div.sk-toggleable__content {\n",
       "  max-height: 0;\n",
       "  max-width: 0;\n",
       "  overflow: hidden;\n",
       "  text-align: left;\n",
       "  /* unfitted */\n",
       "  background-color: var(--sklearn-color-unfitted-level-0);\n",
       "}\n",
       "\n",
       "#sk-container-id-1 div.sk-toggleable__content.fitted {\n",
       "  /* fitted */\n",
       "  background-color: var(--sklearn-color-fitted-level-0);\n",
       "}\n",
       "\n",
       "#sk-container-id-1 div.sk-toggleable__content pre {\n",
       "  margin: 0.2em;\n",
       "  border-radius: 0.25em;\n",
       "  color: var(--sklearn-color-text);\n",
       "  /* unfitted */\n",
       "  background-color: var(--sklearn-color-unfitted-level-0);\n",
       "}\n",
       "\n",
       "#sk-container-id-1 div.sk-toggleable__content.fitted pre {\n",
       "  /* unfitted */\n",
       "  background-color: var(--sklearn-color-fitted-level-0);\n",
       "}\n",
       "\n",
       "#sk-container-id-1 input.sk-toggleable__control:checked~div.sk-toggleable__content {\n",
       "  /* Expand drop-down */\n",
       "  max-height: 200px;\n",
       "  max-width: 100%;\n",
       "  overflow: auto;\n",
       "}\n",
       "\n",
       "#sk-container-id-1 input.sk-toggleable__control:checked~label.sk-toggleable__label-arrow:before {\n",
       "  content: \"▾\";\n",
       "}\n",
       "\n",
       "/* Pipeline/ColumnTransformer-specific style */\n",
       "\n",
       "#sk-container-id-1 div.sk-label input.sk-toggleable__control:checked~label.sk-toggleable__label {\n",
       "  color: var(--sklearn-color-text);\n",
       "  background-color: var(--sklearn-color-unfitted-level-2);\n",
       "}\n",
       "\n",
       "#sk-container-id-1 div.sk-label.fitted input.sk-toggleable__control:checked~label.sk-toggleable__label {\n",
       "  background-color: var(--sklearn-color-fitted-level-2);\n",
       "}\n",
       "\n",
       "/* Estimator-specific style */\n",
       "\n",
       "/* Colorize estimator box */\n",
       "#sk-container-id-1 div.sk-estimator input.sk-toggleable__control:checked~label.sk-toggleable__label {\n",
       "  /* unfitted */\n",
       "  background-color: var(--sklearn-color-unfitted-level-2);\n",
       "}\n",
       "\n",
       "#sk-container-id-1 div.sk-estimator.fitted input.sk-toggleable__control:checked~label.sk-toggleable__label {\n",
       "  /* fitted */\n",
       "  background-color: var(--sklearn-color-fitted-level-2);\n",
       "}\n",
       "\n",
       "#sk-container-id-1 div.sk-label label.sk-toggleable__label,\n",
       "#sk-container-id-1 div.sk-label label {\n",
       "  /* The background is the default theme color */\n",
       "  color: var(--sklearn-color-text-on-default-background);\n",
       "}\n",
       "\n",
       "/* On hover, darken the color of the background */\n",
       "#sk-container-id-1 div.sk-label:hover label.sk-toggleable__label {\n",
       "  color: var(--sklearn-color-text);\n",
       "  background-color: var(--sklearn-color-unfitted-level-2);\n",
       "}\n",
       "\n",
       "/* Label box, darken color on hover, fitted */\n",
       "#sk-container-id-1 div.sk-label.fitted:hover label.sk-toggleable__label.fitted {\n",
       "  color: var(--sklearn-color-text);\n",
       "  background-color: var(--sklearn-color-fitted-level-2);\n",
       "}\n",
       "\n",
       "/* Estimator label */\n",
       "\n",
       "#sk-container-id-1 div.sk-label label {\n",
       "  font-family: monospace;\n",
       "  font-weight: bold;\n",
       "  display: inline-block;\n",
       "  line-height: 1.2em;\n",
       "}\n",
       "\n",
       "#sk-container-id-1 div.sk-label-container {\n",
       "  text-align: center;\n",
       "}\n",
       "\n",
       "/* Estimator-specific */\n",
       "#sk-container-id-1 div.sk-estimator {\n",
       "  font-family: monospace;\n",
       "  border: 1px dotted var(--sklearn-color-border-box);\n",
       "  border-radius: 0.25em;\n",
       "  box-sizing: border-box;\n",
       "  margin-bottom: 0.5em;\n",
       "  /* unfitted */\n",
       "  background-color: var(--sklearn-color-unfitted-level-0);\n",
       "}\n",
       "\n",
       "#sk-container-id-1 div.sk-estimator.fitted {\n",
       "  /* fitted */\n",
       "  background-color: var(--sklearn-color-fitted-level-0);\n",
       "}\n",
       "\n",
       "/* on hover */\n",
       "#sk-container-id-1 div.sk-estimator:hover {\n",
       "  /* unfitted */\n",
       "  background-color: var(--sklearn-color-unfitted-level-2);\n",
       "}\n",
       "\n",
       "#sk-container-id-1 div.sk-estimator.fitted:hover {\n",
       "  /* fitted */\n",
       "  background-color: var(--sklearn-color-fitted-level-2);\n",
       "}\n",
       "\n",
       "/* Specification for estimator info (e.g. \"i\" and \"?\") */\n",
       "\n",
       "/* Common style for \"i\" and \"?\" */\n",
       "\n",
       ".sk-estimator-doc-link,\n",
       "a:link.sk-estimator-doc-link,\n",
       "a:visited.sk-estimator-doc-link {\n",
       "  float: right;\n",
       "  font-size: smaller;\n",
       "  line-height: 1em;\n",
       "  font-family: monospace;\n",
       "  background-color: var(--sklearn-color-background);\n",
       "  border-radius: 1em;\n",
       "  height: 1em;\n",
       "  width: 1em;\n",
       "  text-decoration: none !important;\n",
       "  margin-left: 1ex;\n",
       "  /* unfitted */\n",
       "  border: var(--sklearn-color-unfitted-level-1) 1pt solid;\n",
       "  color: var(--sklearn-color-unfitted-level-1);\n",
       "}\n",
       "\n",
       ".sk-estimator-doc-link.fitted,\n",
       "a:link.sk-estimator-doc-link.fitted,\n",
       "a:visited.sk-estimator-doc-link.fitted {\n",
       "  /* fitted */\n",
       "  border: var(--sklearn-color-fitted-level-1) 1pt solid;\n",
       "  color: var(--sklearn-color-fitted-level-1);\n",
       "}\n",
       "\n",
       "/* On hover */\n",
       "div.sk-estimator:hover .sk-estimator-doc-link:hover,\n",
       ".sk-estimator-doc-link:hover,\n",
       "div.sk-label-container:hover .sk-estimator-doc-link:hover,\n",
       ".sk-estimator-doc-link:hover {\n",
       "  /* unfitted */\n",
       "  background-color: var(--sklearn-color-unfitted-level-3);\n",
       "  color: var(--sklearn-color-background);\n",
       "  text-decoration: none;\n",
       "}\n",
       "\n",
       "div.sk-estimator.fitted:hover .sk-estimator-doc-link.fitted:hover,\n",
       ".sk-estimator-doc-link.fitted:hover,\n",
       "div.sk-label-container:hover .sk-estimator-doc-link.fitted:hover,\n",
       ".sk-estimator-doc-link.fitted:hover {\n",
       "  /* fitted */\n",
       "  background-color: var(--sklearn-color-fitted-level-3);\n",
       "  color: var(--sklearn-color-background);\n",
       "  text-decoration: none;\n",
       "}\n",
       "\n",
       "/* Span, style for the box shown on hovering the info icon */\n",
       ".sk-estimator-doc-link span {\n",
       "  display: none;\n",
       "  z-index: 9999;\n",
       "  position: relative;\n",
       "  font-weight: normal;\n",
       "  right: .2ex;\n",
       "  padding: .5ex;\n",
       "  margin: .5ex;\n",
       "  width: min-content;\n",
       "  min-width: 20ex;\n",
       "  max-width: 50ex;\n",
       "  color: var(--sklearn-color-text);\n",
       "  box-shadow: 2pt 2pt 4pt #999;\n",
       "  /* unfitted */\n",
       "  background: var(--sklearn-color-unfitted-level-0);\n",
       "  border: .5pt solid var(--sklearn-color-unfitted-level-3);\n",
       "}\n",
       "\n",
       ".sk-estimator-doc-link.fitted span {\n",
       "  /* fitted */\n",
       "  background: var(--sklearn-color-fitted-level-0);\n",
       "  border: var(--sklearn-color-fitted-level-3);\n",
       "}\n",
       "\n",
       ".sk-estimator-doc-link:hover span {\n",
       "  display: block;\n",
       "}\n",
       "\n",
       "/* \"?\"-specific style due to the `<a>` HTML tag */\n",
       "\n",
       "#sk-container-id-1 a.estimator_doc_link {\n",
       "  float: right;\n",
       "  font-size: 1rem;\n",
       "  line-height: 1em;\n",
       "  font-family: monospace;\n",
       "  background-color: var(--sklearn-color-background);\n",
       "  border-radius: 1rem;\n",
       "  height: 1rem;\n",
       "  width: 1rem;\n",
       "  text-decoration: none;\n",
       "  /* unfitted */\n",
       "  color: var(--sklearn-color-unfitted-level-1);\n",
       "  border: var(--sklearn-color-unfitted-level-1) 1pt solid;\n",
       "}\n",
       "\n",
       "#sk-container-id-1 a.estimator_doc_link.fitted {\n",
       "  /* fitted */\n",
       "  border: var(--sklearn-color-fitted-level-1) 1pt solid;\n",
       "  color: var(--sklearn-color-fitted-level-1);\n",
       "}\n",
       "\n",
       "/* On hover */\n",
       "#sk-container-id-1 a.estimator_doc_link:hover {\n",
       "  /* unfitted */\n",
       "  background-color: var(--sklearn-color-unfitted-level-3);\n",
       "  color: var(--sklearn-color-background);\n",
       "  text-decoration: none;\n",
       "}\n",
       "\n",
       "#sk-container-id-1 a.estimator_doc_link.fitted:hover {\n",
       "  /* fitted */\n",
       "  background-color: var(--sklearn-color-fitted-level-3);\n",
       "}\n",
       "</style><div id=\"sk-container-id-1\" class=\"sk-top-container\"><div class=\"sk-text-repr-fallback\"><pre>DecisionTreeClassifier()</pre><b>In a Jupyter environment, please rerun this cell to show the HTML representation or trust the notebook. <br />On GitHub, the HTML representation is unable to render, please try loading this page with nbviewer.org.</b></div><div class=\"sk-container\" hidden><div class=\"sk-item\"><div class=\"sk-estimator fitted sk-toggleable\"><input class=\"sk-toggleable__control sk-hidden--visually\" id=\"sk-estimator-id-1\" type=\"checkbox\" checked><label for=\"sk-estimator-id-1\" class=\"sk-toggleable__label fitted sk-toggleable__label-arrow fitted\">&nbsp;&nbsp;DecisionTreeClassifier<a class=\"sk-estimator-doc-link fitted\" rel=\"noreferrer\" target=\"_blank\" href=\"https://scikit-learn.org/1.4/modules/generated/sklearn.tree.DecisionTreeClassifier.html\">?<span>Documentation for DecisionTreeClassifier</span></a><span class=\"sk-estimator-doc-link fitted\">i<span>Fitted</span></span></label><div class=\"sk-toggleable__content fitted\"><pre>DecisionTreeClassifier()</pre></div> </div></div></div></div>"
      ],
      "text/plain": [
       "DecisionTreeClassifier()"
      ]
     },
     "execution_count": 43,
     "metadata": {},
     "output_type": "execute_result"
    }
   ],
   "source": [
    "scaler=StandardScaler()\n",
    "X_train=scaler.fit_transform(X_train)\n",
    "model1=HistGradientBoostingClassifier()\n",
    "model1.fit(X_train,y_train)\n",
    "model2=GradientBoostingClassifier()\n",
    "model2.fit(X_train,y_train)\n",
    "model3=RandomForestClassifier()\n",
    "model3.fit(X_train,y_train)\n",
    "model4=DecisionTreeClassifier()\n",
    "model4.fit(X_train,y_train)"
   ]
  },
  {
   "cell_type": "code",
   "execution_count": 44,
   "id": "d05bbd77-f25a-48b6-acba-cb732f9afcfe",
   "metadata": {},
   "outputs": [
    {
     "name": "stdout",
     "output_type": "stream",
     "text": [
      "Accuracy of HistGradientBoostingClassifier: 1.0\n",
      "Accuracy of GradientBoostingClassifier: 1.0\n",
      "Accuracy of RandomForestClassifier: 1.0\n",
      "Accuracy of DecisionTreeClassifier: 1.0\n"
     ]
    }
   ],
   "source": [
    "X_test_scaled = scaler.transform(X_test)  # Scale the testing data using the same scaler\n",
    "\n",
    "# Make predictions using each model\n",
    "y_pred_model1 = model1.predict(X_test_scaled)\n",
    "y_pred_model2 = model2.predict(X_test_scaled)\n",
    "y_pred_model3 = model3.predict(X_test_scaled)\n",
    "y_pred_model4 = model4.predict(X_test_scaled)\n",
    "\n",
    "# Calculate accuracy for each model\n",
    "accuracy_model1 = accuracy_score(y_test, y_pred_model1)\n",
    "accuracy_model2 = accuracy_score(y_test, y_pred_model2)\n",
    "accuracy_model3 = accuracy_score(y_test, y_pred_model3)\n",
    "accuracy_model4 = accuracy_score(y_test, y_pred_model4)\n",
    "\n",
    "# Print the accuracy of each model\n",
    "print(\"Accuracy of HistGradientBoostingClassifier:\", accuracy_model1)\n",
    "print(\"Accuracy of GradientBoostingClassifier:\", accuracy_model2)\n",
    "print(\"Accuracy of RandomForestClassifier:\", accuracy_model3)\n",
    "print(\"Accuracy of DecisionTreeClassifier:\", accuracy_model4)"
   ]
  },
  {
   "cell_type": "markdown",
   "id": "e751a491-8715-4e2c-9fc1-5ba371c533b3",
   "metadata": {},
   "source": [
    "### As 4 of the above classifiers giving us the same value we can go for voting classifier so it  will give result based on voting  "
   ]
  },
  {
   "cell_type": "markdown",
   "id": "17ce5520-0cdf-4e22-aff0-eb97a85b5b7e",
   "metadata": {},
   "source": [
    "#### As we are taking even number so voting strategy should be ```soft``` ,it predicts the class label based on the argmax of the sums of the predicted probabilities"
   ]
  },
  {
   "cell_type": "markdown",
   "id": "6bbd65a0-50b0-441b-b802-6bd9bc3123cc",
   "metadata": {},
   "source": [
    "##### ```hard```, uses predicted class labels for majority rule voting there may be situation when there is 50/50 voting so it may lead to error"
   ]
  },
  {
   "cell_type": "code",
   "execution_count": 45,
   "id": "2d6ac2f9-245b-4910-8945-9cf6bc2afdbc",
   "metadata": {},
   "outputs": [
    {
     "name": "stdout",
     "output_type": "stream",
     "text": [
      "Accuracy of VotingClassifier: 1.0\n"
     ]
    }
   ],
   "source": [
    "estimators = [\n",
    "    ('HGB', model1),\n",
    "    ('GBC', model2),\n",
    "    ('RF', model3),\n",
    "    ('DT', model4)\n",
    "]\n",
    "vc = VotingClassifier(estimators=estimators, voting='soft')\n",
    "vc.fit(X_train, y_train)\n",
    "y_pred_voting = vc.predict(X_test_scaled)\n",
    "accuracy_voting = accuracy_score(y_test, y_pred_voting)\n",
    "print(\"Accuracy of VotingClassifier:\", accuracy_voting)"
   ]
  },
  {
   "cell_type": "markdown",
   "id": "69a1e322-2849-44bd-aadd-d5f92b6846b6",
   "metadata": {},
   "source": [
    "## Training Model On Whole Dataset"
   ]
  },
  {
   "cell_type": "markdown",
   "id": "955026c9-462c-4b7f-8788-c51cdcb71cba",
   "metadata": {},
   "source": [
    "### Doing Normalization Of Values Using Standard Scaler fit_transform method"
   ]
  },
  {
   "cell_type": "code",
   "execution_count": 46,
   "id": "0b04d788-df94-4657-83cb-d9a8040bbf10",
   "metadata": {},
   "outputs": [
    {
     "name": "stdout",
     "output_type": "stream",
     "text": [
      "[Voting] ...................... (1 of 4) Processing HGB, total=   1.4s\n",
      "[Voting] ...................... (2 of 4) Processing GBC, total=  11.3s\n",
      "[Voting] ....................... (3 of 4) Processing RF, total=   6.5s\n",
      "[Voting] ....................... (4 of 4) Processing DT, total=   0.1s\n"
     ]
    },
    {
     "data": {
      "text/plain": [
       "(       gender   age  hypertension  heart_disease  smoking_history    bmi  \\\n",
       " 0           2  80.0             0              1                0  25.19   \n",
       " 1           2  54.0             0              0                1  27.32   \n",
       " 2           1  28.0             0              0                0  27.32   \n",
       " 3           2  36.0             0              0                2  23.45   \n",
       " 4           1  76.0             1              1                2  20.14   \n",
       " ...       ...   ...           ...            ...              ...    ...   \n",
       " 99994       2  36.0             0              0                1  24.60   \n",
       " 99996       2   2.0             0              0                1  17.37   \n",
       " 99997       1  66.0             0              0                3  27.83   \n",
       " 99998       2  24.0             0              0                0  35.42   \n",
       " 99999       2  57.0             0              0                2  22.43   \n",
       " \n",
       "        HbA1c_level  blood_glucose_level  \n",
       " 0              6.6                  140  \n",
       " 1              6.6                   80  \n",
       " 2              5.7                  158  \n",
       " 3              5.0                  155  \n",
       " 4              4.8                  155  \n",
       " ...            ...                  ...  \n",
       " 99994          4.8                  145  \n",
       " 99996          6.5                  100  \n",
       " 99997          5.7                  155  \n",
       " 99998          4.0                  100  \n",
       " 99999          6.6                   90  \n",
       " \n",
       " [96146 rows x 8 columns],\n",
       " 0        1\n",
       " 1        1\n",
       " 2        1\n",
       " 3        1\n",
       " 4        1\n",
       "         ..\n",
       " 99994    1\n",
       " 99996    1\n",
       " 99997    1\n",
       " 99998    1\n",
       " 99999    1\n",
       " Name: diabetes, Length: 96146, dtype: int64)"
      ]
     },
     "execution_count": 46,
     "metadata": {},
     "output_type": "execute_result"
    }
   ],
   "source": [
    "scaler=StandardScaler()\n",
    "X_Scaled=scaler.fit_transform(X)\n",
    "model=VotingClassifier(estimators=estimators, voting='soft',verbose=True)#soft as there are even no of estimators\n",
    "model.fit(X,y)\n",
    "X,y"
   ]
  },
  {
   "cell_type": "markdown",
   "id": "493ee912-0609-4621-bf40-9ad91f63d501",
   "metadata": {},
   "source": [
    "## Saving The Model"
   ]
  },
  {
   "cell_type": "markdown",
   "id": "52bb2cdb-e5e0-4f98-b826-87afeacaae3d",
   "metadata": {},
   "source": [
    "### Saving Model Without Standard Scaler fit_transform"
   ]
  },
  {
   "cell_type": "code",
   "execution_count": 47,
   "id": "b29a3f3d-479b-4e28-9fcc-8fb18f8a36cd",
   "metadata": {},
   "outputs": [
    {
     "data": {
      "text/plain": [
       "['Diabetese_Prediction.joblib']"
      ]
     },
     "execution_count": 47,
     "metadata": {},
     "output_type": "execute_result"
    }
   ],
   "source": [
    "joblib.dump(model,\"Diabetese_Prediction.joblib\")"
   ]
  },
  {
   "cell_type": "markdown",
   "id": "4b5a6203-3f89-4a97-968b-e6de629146d8",
   "metadata": {},
   "source": [
    "### Saving Model With Standard Scaler fit_transform"
   ]
  },
  {
   "cell_type": "code",
   "execution_count": 48,
   "id": "0915cb50-091d-4850-8db3-a342b4484f43",
   "metadata": {},
   "outputs": [
    {
     "name": "stdout",
     "output_type": "stream",
     "text": [
      "[Voting] ...................... (1 of 4) Processing HGB, total=   2.4s\n",
      "[Voting] ...................... (2 of 4) Processing GBC, total=  11.0s\n",
      "[Voting] ....................... (3 of 4) Processing RF, total=   7.1s\n",
      "[Voting] ....................... (4 of 4) Processing DT, total=   0.1s\n"
     ]
    },
    {
     "data": {
      "text/plain": [
       "(array([[ 8.43459189e-01,  1.70083970e+00, -2.90050377e-01, ...,\n",
       "         -3.14947071e-01,  9.94562951e-01,  1.09119370e-01],\n",
       "        [ 8.43459189e-01,  5.43372045e-01, -2.90050377e-01, ...,\n",
       "         -2.15895425e-04,  9.94562951e-01, -1.58354098e+00],\n",
       "        [-1.18376945e+00, -6.14095608e-01, -2.90050377e-01, ...,\n",
       "         -2.15895425e-04,  1.55970122e-01,  6.16917477e-01],\n",
       "        ...,\n",
       "        [-1.18376945e+00,  1.07758788e+00, -2.90050377e-01, ...,\n",
       "          7.51422735e-02,  1.55970122e-01,  5.32284459e-01],\n",
       "        [ 8.43459189e-01, -7.92167555e-01, -2.90050377e-01, ...,\n",
       "          1.19664914e+00, -1.42803856e+00, -1.01932087e+00],\n",
       "        [ 8.43459189e-01,  6.76926005e-01, -2.90050377e-01, ...,\n",
       "         -7.22767750e-01,  9.94562951e-01, -1.30143093e+00]]),\n",
       " 0        1\n",
       " 1        1\n",
       " 2        1\n",
       " 3        1\n",
       " 4        1\n",
       "         ..\n",
       " 99994    1\n",
       " 99996    1\n",
       " 99997    1\n",
       " 99998    1\n",
       " 99999    1\n",
       " Name: diabetes, Length: 96146, dtype: int64)"
      ]
     },
     "execution_count": 48,
     "metadata": {},
     "output_type": "execute_result"
    }
   ],
   "source": [
    "model.fit(X_Scaled,y)\n",
    "X_Scaled,y"
   ]
  },
  {
   "cell_type": "code",
   "execution_count": 49,
   "id": "aca97ea3-a594-41dd-bf23-0df9566a20cf",
   "metadata": {},
   "outputs": [
    {
     "data": {
      "text/plain": [
       "['Diabetese_Prediction.pkl']"
      ]
     },
     "execution_count": 49,
     "metadata": {},
     "output_type": "execute_result"
    }
   ],
   "source": [
    "joblib.dump(model,\"Diabetese_Prediction.pkl\")"
   ]
  }
 ],
 "metadata": {
  "kernelspec": {
   "display_name": "Python 3 (ipykernel)",
   "language": "python",
   "name": "python3"
  },
  "language_info": {
   "codemirror_mode": {
    "name": "ipython",
    "version": 3
   },
   "file_extension": ".py",
   "mimetype": "text/x-python",
   "name": "python",
   "nbconvert_exporter": "python",
   "pygments_lexer": "ipython3",
   "version": "3.11.8"
  }
 },
 "nbformat": 4,
 "nbformat_minor": 5
}
